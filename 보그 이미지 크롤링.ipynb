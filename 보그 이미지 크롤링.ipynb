{
 "cells": [
  {
   "cell_type": "code",
   "execution_count": 1,
   "metadata": {},
   "outputs": [],
   "source": [
    "import os\n",
    "import sys\n",
    "import time\n",
    "\n",
    "import requests\n",
    "from selenium import webdriver\n",
    "from selenium.webdriver.common.by import By\n",
    "from selenium.webdriver.chrome.service import Service\n",
    "from tqdm import tqdm"
   ]
  },
  {
   "cell_type": "code",
   "execution_count": 2,
   "metadata": {},
   "outputs": [],
   "source": [
    "# url is like \"https://www.vogue.com/fashion-shows/designer/chanel\"\n",
    "def get_year_season(driver):\n",
    "    # click the 'Show More' to view all of years, seasons collection\n",
    "    button = \"BaseButton-azpcp ButtonWrapper-dPwOur cTnZjR cdLMwc button button--primary-pair SummaryGridCompactExpandButton-cwjZmN kmRMDf\"\n",
    "    cls = button.replace(' ', '.')\n",
    "    more = driver.find_elements(By.CLASS_NAME, cls)\n",
    "    more\n",
    "    while more:\n",
    "        more[0].click()\n",
    "        more = driver.find_elements(By.CLASS_NAME, cls)\n",
    "        time.sleep(0.1)\n",
    "\n",
    "    # class_grid\n",
    "    grid = 'GridItem-bwmuQH bpJgOF grid--item'\n",
    "    cls = grid.replace(' ', '.')\n",
    "\n",
    "    # year, season collections\n",
    "    items = driver.find_elements(By.CLASS_NAME, cls)\n",
    "\n",
    "    arr_year_season = []\n",
    "    for item in items:\n",
    "        # Ex> 'Spring 2023 Ready-to-Wear'\n",
    "        name_collection = item.text.replace(' ', '_')\n",
    "        # Ex> 'https://www.vogue.com/fashion-shows/spring-2023-ready-to-wear/chanel'\n",
    "        rink = item.find_element(By.CSS_SELECTOR, 'a')\n",
    "        arr_year_season.append(tuple((name_collection, rink.get_attribute('href'))))\n",
    "    return arr_year_season"
   ]
  },
  {
   "cell_type": "code",
   "execution_count": 3,
   "metadata": {},
   "outputs": [],
   "source": [
    "# button in a year_season website\n",
    "def get_image(driver, href, pre_name_img, iterator):\n",
    "    # class name of button\n",
    "    button = 'BaseButton-azpcp ButtonWrapper-dPwOur cTnZjR cdLMwc button button--primary-pair GalleryThumbnailExpandButton-fxLmiW kguvPC'\n",
    "    cls = button.replace(' ', '.')\n",
    "   \n",
    "    driver.get(href)\n",
    "\n",
    "    # click all of 'load more'\n",
    "    more = driver.find_elements(By.CLASS_NAME, cls)\n",
    "    while more:\n",
    "        more[0].click()\n",
    "        time.sleep(0.1)\n",
    "        more = driver.find_elements(By.CLASS_NAME, cls)\n",
    "\n",
    "    # class name of images grid\n",
    "    grid = \"GridItem-bwmuQH bpJgOF grid--item\"\n",
    "    cls = grid.replace(' ', '.')        \n",
    "    items = driver.find_elements(By.CLASS_NAME, cls)\n",
    "    for item in items:\n",
    "        img = requests.get(item.find_element(By.CSS_SELECTOR, 'img').get_attribute('src'))            \n",
    "        filename = '_'.join(item.text.split())\n",
    "        if 'Detail_Look' in filename:\n",
    "            return\n",
    "\n",
    "        # tqdm log\n",
    "        log = 'image name : ' + filename\n",
    "        iterator.set_postfix_str(log) \n",
    "        \n",
    "        # save the images in dir_save\n",
    "        with open(pre_name_img + '_' + filename+'.png', 'wb') as f:\n",
    "            f.write(img.content)"
   ]
  },
  {
   "cell_type": "code",
   "execution_count": 4,
   "metadata": {},
   "outputs": [],
   "source": [
    "# chrome browser\n",
    "path_driver = r'/Users/jujemu/Documents/github/capstone/chromedriver'\n",
    "driver = webdriver.Chrome(service=Service(path_driver))\n",
    "\n",
    "# url of brand\n",
    "# edit below url += '{brand}'\n",
    "brand = 'christian-dior'\n",
    "url = 'https://www.vogue.com/fashion-shows/designer/'\n",
    "url += brand\n",
    "\n",
    "dir_save = r'./rsc/imgs/'\n",
    "dir_save += brand\n",
    "os.makedirs(dir_save, exist_ok=True)\n",
    "\n",
    "# open browser using selenium webdriver\n",
    "# if you want, options,headless, is useful, which skips browser window\n",
    "driver.get(url)"
   ]
  },
  {
   "cell_type": "code",
   "execution_count": 5,
   "metadata": {},
   "outputs": [],
   "source": [
    "arr_year_season = get_year_season(driver)"
   ]
  },
  {
   "cell_type": "code",
   "execution_count": 6,
   "metadata": {},
   "outputs": [
    {
     "name": "stdout",
     "output_type": "stream",
     "text": [
      "Crawling images: 100%|██████████| 127/127 [1:22:35<00:00, 39.02s/it, image name : Look_37]          \n"
     ]
    }
   ],
   "source": [
    "with tqdm(arr_year_season, desc=\"Crawling images\", file=sys.stdout) as iterator:\n",
    "    for name_ys, href in iterator:\n",
    "        pre_name = os.path.join(dir_save, name_ys)\n",
    "        get_image(driver, href, pre_name, iterator)"
   ]
  },
  {
   "cell_type": "code",
   "execution_count": 7,
   "metadata": {},
   "outputs": [
    {
     "data": {
      "text/plain": [
       "7289"
      ]
     },
     "execution_count": 7,
     "metadata": {},
     "output_type": "execute_result"
    }
   ],
   "source": [
    "len(os.listdir(dir_save))"
   ]
  },
  {
   "cell_type": "code",
   "execution_count": null,
   "metadata": {},
   "outputs": [],
   "source": []
  }
 ],
 "metadata": {
  "kernelspec": {
   "display_name": "Python 3.9.13 ('capstone')",
   "language": "python",
   "name": "python3"
  },
  "language_info": {
   "codemirror_mode": {
    "name": "ipython",
    "version": 3
   },
   "file_extension": ".py",
   "mimetype": "text/x-python",
   "name": "python",
   "nbconvert_exporter": "python",
   "pygments_lexer": "ipython3",
   "version": "3.9.13"
  },
  "orig_nbformat": 4,
  "vscode": {
   "interpreter": {
    "hash": "27cd9234f1897a1f8a3ad37fe9f16bb98f0333b350b96233a3929534043cb89f"
   }
  }
 },
 "nbformat": 4,
 "nbformat_minor": 2
}
