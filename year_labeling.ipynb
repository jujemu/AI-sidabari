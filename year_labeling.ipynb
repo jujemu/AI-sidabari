{
  "nbformat": 4,
  "nbformat_minor": 0,
  "metadata": {
    "colab": {
      "provenance": [],
      "machine_shape": "hm"
    },
    "kernelspec": {
      "name": "python3",
      "display_name": "Python 3"
    },
    "language_info": {
      "name": "python"
    }
  },
  "cells": [
    {
      "cell_type": "code",
      "execution_count": 1,
      "metadata": {
        "id": "STt5K3kQCpUQ"
      },
      "outputs": [],
      "source": [
        "import os\n",
        "import sys\n",
        "import shutil\n",
        "import re\n",
        "import glob"
      ]
    },
    {
      "cell_type": "code",
      "source": [
        "%cd /content\n",
        "data_path = \"'/content/drive/MyDrive/Colab Notebooks/AiffelThon/project/rsc/dataset.zip'\"\n",
        "!unzip -q {data_path}"
      ],
      "metadata": {
        "colab": {
          "base_uri": "https://localhost:8080/"
        },
        "id": "pH9h6uOiCxzK",
        "outputId": "0737932b-1c6d-4436-dbff-d602afa3c54a"
      },
      "execution_count": 2,
      "outputs": [
        {
          "output_type": "stream",
          "name": "stdout",
          "text": [
            "/content\n"
          ]
        }
      ]
    },
    {
      "cell_type": "code",
      "source": [
        "%cd /content\n",
        "!mkdir output\n",
        "%cd output\n",
        "for y in range(1999, 2023+1):\n",
        "  !mkdir {y}"
      ],
      "metadata": {
        "colab": {
          "base_uri": "https://localhost:8080/"
        },
        "id": "tcCcw6uEERp4",
        "outputId": "2aa3afc0-75a1-4883-ec1a-ec41644a87b1"
      },
      "execution_count": null,
      "outputs": [
        {
          "output_type": "stream",
          "name": "stdout",
          "text": [
            "/content\n",
            "/content/output\n"
          ]
        }
      ]
    },
    {
      "cell_type": "code",
      "source": [
        "os.listdir('/content/dataset')[0].split('_')[2]"
      ],
      "metadata": {
        "colab": {
          "base_uri": "https://localhost:8080/",
          "height": 36
        },
        "id": "G229xR8HD2ww",
        "outputId": "b9d06887-15f5-4213-d658-04e28083f99e"
      },
      "execution_count": 3,
      "outputs": [
        {
          "output_type": "execute_result",
          "data": {
            "text/plain": [
              "'2016'"
            ],
            "application/vnd.google.colaboratory.intrinsic+json": {
              "type": "string"
            }
          },
          "metadata": {},
          "execution_count": 3
        }
      ]
    },
    {
      "cell_type": "code",
      "source": [
        "%cd /content/output\n",
        "def year_labeling(path):\n",
        "  imgs = os.listdir(path)\n",
        "  years = [y.split('_')[2] for y in imgs]\n",
        "\n",
        "  for img, year in zip(imgs, years):\n",
        "    if int(year) <= 1999: year = '1999'\n",
        "    shutil.copy(os.path.join(path, img), os.path.join('/content/output', year))"
      ],
      "metadata": {
        "colab": {
          "base_uri": "https://localhost:8080/"
        },
        "id": "8fARk04YDeeV",
        "outputId": "8b8ee506-8913-414c-a29d-98228ca7d97e"
      },
      "execution_count": null,
      "outputs": [
        {
          "output_type": "stream",
          "name": "stdout",
          "text": [
            "/content/output\n"
          ]
        }
      ]
    },
    {
      "cell_type": "code",
      "source": [
        "p = '/content/dataset'\n",
        "year_labeling(p)"
      ],
      "metadata": {
        "id": "UJMUDvW7FzLf"
      },
      "execution_count": null,
      "outputs": []
    },
    {
      "cell_type": "code",
      "source": [
        "%cd /content\n",
        "!zip -rq output.zip output"
      ],
      "metadata": {
        "colab": {
          "base_uri": "https://localhost:8080/"
        },
        "id": "SCUIKM2LF3D0",
        "outputId": "8371fc1f-5f27-432e-ccf1-6f02f7e4cfd1"
      },
      "execution_count": null,
      "outputs": [
        {
          "output_type": "stream",
          "name": "stdout",
          "text": [
            "/content\n"
          ]
        }
      ]
    },
    {
      "cell_type": "code",
      "source": [
        "!cp /content/output.zip \"/content/drive/MyDrive/Colab Notebooks/AiffelThon/project/rsc\""
      ],
      "metadata": {
        "id": "tSyvVocnGJey"
      },
      "execution_count": null,
      "outputs": []
    },
    {
      "cell_type": "code",
      "source": [
        "!ls \"/content/drive/MyDrive/Colab Notebooks/AiffelThon/project/rsc\""
      ],
      "metadata": {
        "colab": {
          "base_uri": "https://localhost:8080/"
        },
        "id": "SptqssfFHRAM",
        "outputId": "f6414de5-99e3-4a10-90e0-d69958cb94bb"
      },
      "execution_count": null,
      "outputs": [
        {
          "output_type": "stream",
          "name": "stdout",
          "text": [
            "dataset  dataset.zip  __MACOSX\toutput.zip  year\n"
          ]
        }
      ]
    },
    {
      "cell_type": "code",
      "source": [],
      "metadata": {
        "id": "QgOVSPC9KNB1"
      },
      "execution_count": null,
      "outputs": []
    }
  ]
}