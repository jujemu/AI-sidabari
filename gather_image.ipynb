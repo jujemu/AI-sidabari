{
  "cells": [
    {
      "cell_type": "markdown",
      "source": [
        "크롤링한 데이터를 latent vector를 찾기 위해 labeling을 한다.  \n",
        "타겟 계절과 연도, 브랜드를 라벨링 한다."
      ],
      "metadata": {
        "id": "IFORqmvKbvsa"
      }
    },
    {
      "cell_type": "code",
      "execution_count": null,
      "metadata": {
        "id": "k-lfGvLCpVRe"
      },
      "outputs": [],
      "source": [
        "import os\n",
        "import glob\n",
        "import shutil\n",
        "import re\n",
        "from tqdm import tqdm\n",
        "\n",
        "from PIL import Image"
      ]
    },
    {
      "cell_type": "code",
      "execution_count": null,
      "metadata": {
        "id": "w56IZ9uapgai"
      },
      "outputs": [],
      "source": [
        "ds_path = '/content/drive/MyDrive/Colab Notebooks/Collection/Paris'"
      ]
    },
    {
      "cell_type": "code",
      "execution_count": null,
      "metadata": {
        "colab": {
          "base_uri": "https://localhost:8080/",
          "height": 36
        },
        "id": "E9DBYT20plTP",
        "outputId": "ae9a2740-08ef-4156-f2b9-a906949e8467"
      },
      "outputs": [
        {
          "data": {
            "application/vnd.google.colaboratory.intrinsic+json": {
              "type": "string"
            },
            "text/plain": [
              "'/content/drive/MyDrive/Colab Notebooks/Collection/Paris/Acne Studios/Fall 2013 Ready-to-Wear/Look_40.png'"
            ]
          },
          "execution_count": 8,
          "metadata": {},
          "output_type": "execute_result"
        }
      ],
      "source": [
        "next(glob.iglob(os.path.join(ds_path, '**/*.png'), recursive=True))"
      ]
    },
    {
      "cell_type": "code",
      "execution_count": null,
      "metadata": {
        "colab": {
          "base_uri": "https://localhost:8080/"
        },
        "id": "PDah_-jkLAwt",
        "outputId": "95e5f08f-e29b-4a14-b161-a56def6f2896"
      },
      "outputs": [
        {
          "data": {
            "text/plain": [
              "22"
            ]
          },
          "execution_count": 4,
          "metadata": {},
          "output_type": "execute_result"
        }
      ],
      "source": [
        "len(glob.glob(os.path.join(ds_path, '*')))"
      ]
    },
    {
      "cell_type": "code",
      "execution_count": null,
      "metadata": {
        "colab": {
          "background_save": true,
          "base_uri": "https://localhost:8080/"
        },
        "id": "0wfIzgfnp1cA",
        "outputId": "db9b3a94-6526-4d6a-b1f8-bdc9ed47b315"
      },
      "outputs": [
        {
          "name": "stderr",
          "output_type": "stream",
          "text": [
            "\r  0%|          | 0/15 [00:00<?, ?it/s]"
          ]
        },
        {
          "name": "stdout",
          "output_type": "stream",
          "text": [
            "\n",
            "ChristianDior now processing 1000th\n",
            "\n",
            "ChristianDior now processing 2000th\n",
            "\n",
            "ChristianDior now processing 3000th\n",
            "\n",
            "ChristianDior now processing 4000th\n",
            "\n",
            "ChristianDior now processing 5000th\n",
            "\n",
            "ChristianDior now processing 6000th\n"
          ]
        },
        {
          "name": "stderr",
          "output_type": "stream",
          "text": [
            "\r  7%|▋         | 1/15 [52:00<12:08:08, 3120.57s/it]"
          ]
        },
        {
          "name": "stdout",
          "output_type": "stream",
          "text": [
            "\n",
            "CommedesGarçons now processing 1000th\n"
          ]
        },
        {
          "name": "stderr",
          "output_type": "stream",
          "text": [
            "\r 13%|█▎        | 2/15 [1:03:53<6:09:18, 1704.47s/it]"
          ]
        },
        {
          "name": "stdout",
          "output_type": "stream",
          "text": [
            "\n",
            "DriesVanNoten now processing 1000th\n",
            "\n",
            "DriesVanNoten now processing 2000th\n",
            "\n",
            "DriesVanNoten now processing 3000th\n",
            "\n",
            "DriesVanNoten now processing 4000th\n"
          ]
        },
        {
          "name": "stderr",
          "output_type": "stream",
          "text": [
            "\r 20%|██        | 3/15 [1:33:03<5:45:02, 1725.22s/it]"
          ]
        },
        {
          "name": "stdout",
          "output_type": "stream",
          "text": [
            "\n",
            "GiambattistaValli now processing 1000th\n",
            "\n",
            "GiambattistaValli now processing 2000th\n",
            "\n",
            "GiambattistaValli now processing 3000th\n"
          ]
        },
        {
          "name": "stderr",
          "output_type": "stream",
          "text": [
            "\r 27%|██▋       | 4/15 [2:01:23<5:14:28, 1715.35s/it]"
          ]
        },
        {
          "name": "stdout",
          "output_type": "stream",
          "text": [
            "\n",
            "Givenchy now processing 1000th\n",
            "\n",
            "Givenchy now processing 2000th\n",
            "\n",
            "Givenchy now processing 3000th\n",
            "\n",
            "Givenchy now processing 4000th\n",
            "\n",
            "Givenchy now processing 5000th\n"
          ]
        },
        {
          "name": "stderr",
          "output_type": "stream",
          "text": [
            "\r 33%|███▎      | 5/15 [2:40:50<5:25:01, 1950.20s/it]"
          ]
        },
        {
          "name": "stdout",
          "output_type": "stream",
          "text": [
            "\n",
            "Hermes now processing 1000th\n",
            "\n",
            "Hermes now processing 2000th\n",
            "\n",
            "Hermes now processing 3000th\n"
          ]
        },
        {
          "name": "stderr",
          "output_type": "stream",
          "text": [
            "\r 40%|████      | 6/15 [3:16:49<5:03:11, 2021.27s/it]"
          ]
        },
        {
          "name": "stdout",
          "output_type": "stream",
          "text": [
            "\n",
            "Kenzo now processing 1000th\n",
            "\n",
            "Kenzo now processing 2000th\n"
          ]
        },
        {
          "name": "stderr",
          "output_type": "stream",
          "text": [
            "\r 47%|████▋     | 7/15 [3:39:04<3:59:34, 1796.78s/it]"
          ]
        },
        {
          "name": "stdout",
          "output_type": "stream",
          "text": [
            "\n",
            "Lanvin now processing 1000th\n",
            "\n",
            "Lanvin now processing 2000th\n",
            "\n",
            "Lanvin now processing 3000th\n",
            "\n",
            "Lanvin now processing 4000th\n"
          ]
        },
        {
          "name": "stderr",
          "output_type": "stream",
          "text": [
            "\r 53%|█████▎    | 8/15 [4:09:17<3:30:13, 1801.93s/it]"
          ]
        },
        {
          "name": "stdout",
          "output_type": "stream",
          "text": [
            "\n",
            "LouisVuitton now processing 1000th\n",
            "\n",
            "LouisVuitton now processing 2000th\n",
            "\n",
            "LouisVuitton now processing 3000th\n",
            "\n",
            "LouisVuitton now processing 4000th\n",
            "\n",
            "LouisVuitton now processing 5000th\n"
          ]
        },
        {
          "name": "stderr",
          "output_type": "stream",
          "text": [
            "\r 60%|██████    | 9/15 [4:46:50<3:14:18, 1943.11s/it]"
          ]
        },
        {
          "name": "stdout",
          "output_type": "stream",
          "text": [
            "\n",
            "MaisonMargiela now processing 1000th\n",
            "\n",
            "MaisonMargiela now processing 2000th\n"
          ]
        },
        {
          "name": "stderr",
          "output_type": "stream",
          "text": [
            "\r 67%|██████▋   | 10/15 [5:04:49<2:19:41, 1676.29s/it]"
          ]
        },
        {
          "name": "stdout",
          "output_type": "stream",
          "text": [
            "\n",
            "MiuMiu now processing 1000th\n",
            "\n",
            "MiuMiu now processing 2000th\n"
          ]
        },
        {
          "name": "stderr",
          "output_type": "stream",
          "text": [
            "\r 73%|███████▎  | 11/15 [5:23:40<1:40:37, 1509.48s/it]"
          ]
        },
        {
          "name": "stdout",
          "output_type": "stream",
          "text": [
            "\n",
            "RickOwens now processing 1000th\n",
            "\n",
            "RickOwens now processing 2000th\n"
          ]
        },
        {
          "name": "stderr",
          "output_type": "stream",
          "text": [
            "\r 80%|████████  | 12/15 [5:44:56<1:11:55, 1438.46s/it]"
          ]
        },
        {
          "name": "stdout",
          "output_type": "stream",
          "text": [
            "\n",
            "SaintLaurent now processing 1000th\n",
            "\n",
            "SaintLaurent now processing 2000th\n",
            "\n",
            "SaintLaurent now processing 3000th\n",
            "\n",
            "SaintLaurent now processing 4000th\n"
          ]
        },
        {
          "name": "stderr",
          "output_type": "stream",
          "text": [
            "\r 87%|████████▋ | 13/15 [6:15:00<51:38, 1549.18s/it]  "
          ]
        },
        {
          "name": "stdout",
          "output_type": "stream",
          "text": [
            "\n",
            "Valentino now processing 1000th\n",
            "\n",
            "Valentino now processing 2000th\n",
            "\n",
            "Valentino now processing 3000th\n",
            "\n",
            "Valentino now processing 4000th\n",
            "\n",
            "Valentino now processing 5000th\n",
            "\n",
            "Valentino now processing 6000th\n",
            "\n",
            "Valentino now processing 7000th\n"
          ]
        },
        {
          "name": "stderr",
          "output_type": "stream",
          "text": [
            "\r 93%|█████████▎| 14/15 [7:03:04<32:32, 1952.28s/it]"
          ]
        },
        {
          "name": "stdout",
          "output_type": "stream",
          "text": [
            "\n",
            "YohjiYamamoto now processing 1000th\n",
            "\n",
            "YohjiYamamoto now processing 2000th\n",
            "\n",
            "YohjiYamamoto now processing 3000th\n"
          ]
        },
        {
          "name": "stderr",
          "output_type": "stream",
          "text": [
            "100%|██████████| 15/15 [7:21:54<00:00, 1767.62s/it]\n"
          ]
        }
      ],
      "source": [
        "!rm -rf /content/output & mkdir /content/output\n",
        "p = re.compile(r'[0-9]+')\n",
        "SIZE = 512, 512\n",
        "\n",
        "for b in tqdm(glob.glob(os.path.join(ds_path, '*'))[6:-1]):\n",
        "  for idx, path in enumerate(glob.iglob(os.path.join(b, '**/*.png'), recursive=True), 1):\n",
        "    i = str(idx).zfill(5)\n",
        "    path_split = path.split('/')\n",
        "    brand = path_split[-3].replace(' ', '')\n",
        "    year = ''.join([str(n) for n in path_split[-2] if n.isnumeric()])\n",
        "    season = path_split[-2][:p.search(path_split[-2]).start()-1]\n",
        "\n",
        "    if 'Couture' in path_split[-2]:\n",
        "      season = season + '-Couture'\n",
        "    elif 'Ready-to-Wear' in path_split[-2]:\n",
        "      season = season + '-Ready-to-Wear'\n",
        "    elif 'Menswear' in path_split[-2]:\n",
        "      season = season + '-Menswear'      \n",
        "    \n",
        "    img_name = brand + '_' + season + '_' + year + '_' + i\n",
        "    img = Image.open(path).convert('RGB').resize(SIZE, Image.LANCZOS)\n",
        "    img.save('/content/output/' + img_name + '.jpeg', 'jpeg')\n",
        "\n",
        "    if idx % 1000 == 0:\n",
        "      print()\n",
        "      print(f'{brand} now processing {idx}th')"
      ]
    },
    {
      "cell_type": "code",
      "execution_count": null,
      "metadata": {
        "colab": {
          "background_save": true
        },
        "id": "tQCMkfpR5F5Y",
        "outputId": "9cafd3de-05c8-4156-a63c-16031729b73d"
      },
      "outputs": [
        {
          "name": "stdout",
          "output_type": "stream",
          "text": [
            "/content\n"
          ]
        }
      ],
      "source": [
        "%cd /content\n",
        "!zip -rq imgs_1.zip output/"
      ]
    },
    {
      "cell_type": "code",
      "execution_count": null,
      "metadata": {
        "colab": {
          "background_save": true
        },
        "id": "_dcAHtWe6H3R",
        "outputId": "1064570f-3885-4f16-f7ba-051638d5bde3"
      },
      "outputs": [
        {
          "data": {
            "application/vnd.google.colaboratory.intrinsic+json": {
              "type": "string"
            },
            "text/plain": [
              "'/content/drive/MyDrive/Colab Notebooks/AiffelThon/jemu/final-data/imgs_1.zip'"
            ]
          },
          "execution_count": 9,
          "metadata": {},
          "output_type": "execute_result"
        }
      ],
      "source": [
        "shutil.copy(\"imgs_1.zip\", '/content/drive/MyDrive/Colab Notebooks/AiffelThon/jemu/final-data')"
      ]
    }
  ],
  "metadata": {
    "colab": {
      "background_execution": "on",
      "collapsed_sections": [],
      "machine_shape": "hm",
      "provenance": []
    },
    "gpuClass": "standard",
    "kernelspec": {
      "display_name": "Python 3",
      "name": "python3"
    },
    "language_info": {
      "name": "python"
    }
  },
  "nbformat": 4,
  "nbformat_minor": 0
}