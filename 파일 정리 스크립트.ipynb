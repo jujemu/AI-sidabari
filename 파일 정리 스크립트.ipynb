{
  "cells": [
    {
      "cell_type": "markdown",
      "metadata": {
        "id": "GqN38iECBwL4"
      },
      "source": [
        "# Build Dataset with or without background \n",
        "_PP-HumanSeg_  \n",
        "_https://github.com/PaddlePaddle/PaddleSeg/tree/release/2.6/contrib/PP-HumanSeg_"
      ]
    },
    {
      "cell_type": "markdown",
      "metadata": {
        "id": "mWJI3ZWxZD1I"
      },
      "source": [
        "# Set up"
      ]
    },
    {
      "cell_type": "code",
      "execution_count": null,
      "metadata": {
        "colab": {
          "base_uri": "https://localhost:8080/"
        },
        "id": "-aP3vzvzb2sj",
        "outputId": "a13b8978-cc6e-4bd9-c4f6-c58edf286c79"
      },
      "outputs": [
        {
          "name": "stdout",
          "output_type": "stream",
          "text": [
            "GPU 0: Tesla V100-SXM2-16GB (UUID: GPU-f1a6a2ae-7da6-732c-b007-55fc95a88e48)\n"
          ]
        }
      ],
      "source": [
        "!nvidia-smi -L"
      ]
    },
    {
      "cell_type": "code",
      "execution_count": null,
      "metadata": {
        "id": "eKvbS2Vp1sLi"
      },
      "outputs": [],
      "source": [
        "%%capture\n",
        "!python -m pip install paddlepaddle-gpu==2.3.2.post111 -f https://www.paddlepaddle.org.cn/whl/linux/mkl/avx/stable.html\n",
        "%cd /content\n",
        "!git clone https://github.com/jujemu/PaddleSeg\n",
        "%cd /content/PaddleSeg\n",
        "!pip install -r requirements.txt"
      ]
    },
    {
      "cell_type": "code",
      "execution_count": null,
      "metadata": {
        "id": "aqzI364aDglv"
      },
      "outputs": [],
      "source": [
        "%%capture\n",
        "%cd /content/PaddleSeg/contrib/PP-HumanSeg\n",
        "!python src/download_inference_models.py\n",
        "!python src/download_data.py"
      ]
    },
    {
      "cell_type": "code",
      "execution_count": null,
      "metadata": {
        "id": "oFEVtM8XxQ8T"
      },
      "outputs": [],
      "source": [
        "import os\n",
        "import glob\n",
        "import shutil\n",
        "import re\n",
        "\n",
        "from tqdm import tqdm\n",
        "from PIL import Image"
      ]
    },
    {
      "cell_type": "markdown",
      "metadata": {
        "id": "AFqoyQisZyQZ"
      },
      "source": [
        "## Base Image\n",
        "\n",
        " - save directory: /content/input_with_background\n",
        " - Set the brand"
      ]
    },
    {
      "cell_type": "markdown",
      "metadata": {
        "id": "Nt7TACYe73KC"
      },
      "source": [
        "[ 'Christian Dior', 'Maison Margiela', 'Dries Van Noten'  'Miu Miu']"
      ]
    },
    {
      "cell_type": "code",
      "execution_count": null,
      "metadata": {
        "colab": {
          "base_uri": "https://localhost:8080/"
        },
        "id": "c0ybU27jZCCW",
        "outputId": "9a014c0f-da47-4e2c-c6ea-5058d2494827"
      },
      "outputs": [
        {
          "name": "stdout",
          "output_type": "stream",
          "text": [
            "/content/base_input\n"
          ]
        },
        {
          "name": "stderr",
          "output_type": "stream",
          "text": [
            "100%|█████████▉| 5370/5371 [58:35<00:00,  1.53it/s]\n"
          ]
        },
        {
          "name": "stdout",
          "output_type": "stream",
          "text": [
            "\n",
            "/content/input_with_background\n"
          ]
        },
        {
          "name": "stderr",
          "output_type": "stream",
          "text": [
            "100%|██████████| 5371/5371 [11:27<00:00,  7.81it/s]\n"
          ]
        },
        {
          "name": "stdout",
          "output_type": "stream",
          "text": [
            "\n",
            "/content/PaddleSeg/contrib/PP-HumanSeg\n",
            "Image without background\n",
            "2022-08-31 15:16:50 [INFO]\tInput: image\n",
            "2022-08-31 15:16:50 [INFO]\tCreate predictor...\n",
            "2022-08-31 15:16:51 [INFO]\tStart predicting...\n"
          ]
        }
      ],
      "source": [
        "# Base Dataset\n",
        "# save directory: \"/content/base_input\"\n",
        "f_name = '/content/base_input'\n",
        "!rm -rf $f_name\n",
        "!mkdir -p $f_name\n",
        "%cd $f_name\n",
        "SIZE = (512, 1024)\n",
        "\n",
        "path = '/content/drive/MyDrive/Colab Notebooks/AiffelThon/Collection/Paris/'\n",
        "#------------------------------------------------------\n",
        "# Set the brand\n",
        "brand = 'Saint Laurent'\n",
        "#------------------------------------------------------\n",
        "brand_ = brand.replace(\" \", \"\")\n",
        "input = os.path.join(path, brand)\n",
        "\n",
        "cnt = 0\n",
        "gap = len(list(glob.iglob(input+'/**/Look_*.png', recursive=True)))\n",
        "for img_path, _ in zip(glob.iglob(input+'/**/Look_*.png', recursive=True), tqdm(range(gap))):\n",
        "  img = Image.open(img_path)\n",
        "  img = img.resize((SIZE[0], img.size[1]), Image.BICUBIC)\n",
        "  img = img.resize(SIZE, Image.BICUBIC)\n",
        "  \n",
        "  img_name = brand_ + '_' + img_path.split('/')[-1]\n",
        "  n = re.sub('([0-9]+)', str(cnt).zfill(5), img_name)\n",
        "  cnt += 1\n",
        "  img.save(n)\n",
        "print()\n",
        "\n",
        "# Image with background\n",
        "# (width, height) 512, 512\n",
        "# save directory: \"/content/input_with_background\"\n",
        "f_name = \"/content/input_with_background\"\n",
        "!rm -rf $f_name\n",
        "!mkdir -p $f_name\n",
        "%cd $f_name\n",
        "SIZE = (512, 512)\n",
        "\n",
        "list_img_path = os.listdir('/content/base_input')\n",
        "for img_path in tqdm(list_img_path):\n",
        "  path = os.path.relpath('/content/base_input/' + img_path)\n",
        "  img = Image.open(path)\n",
        "  img = img.resize(SIZE, Image.BICUBIC)\n",
        "  img.save(img_path)\n",
        "print()\n",
        "\n",
        "# Image without background\n",
        "# Applied segmentation\n",
        "# (width, height) 512, 1024\n",
        "# save directory: \"/content/input_without_background\"\n",
        "f_name = \"/content/input_without_background\"\n",
        "!rm -rf $f_name\n",
        "!mkdir -p $f_name\n",
        "%cd /content/PaddleSeg/contrib/PP-HumanSeg\n",
        "\n",
        "print('Image without background')\n",
        "!python src/predict.py \\\n",
        "  --config inference_models/portrait_pp_humansegv2_lite_256x144_inference_model_with_softmax/deploy.yaml \\\n",
        "  --img_path /content/base_input/ \\\n",
        "  --save_dir /content/input_without_background"
      ]
    },
    {
      "cell_type": "code",
      "execution_count": null,
      "metadata": {
        "colab": {
          "background_save": true,
          "base_uri": "https://localhost:8080/"
        },
        "id": "a-qGpNljWggt",
        "outputId": "a8a747f4-788c-4cc8-bd0d-12cfee3922f2"
      },
      "outputs": [
        {
          "name": "stdout",
          "output_type": "stream",
          "text": [
            "/content\n"
          ]
        }
      ],
      "source": [
        "%cd /content\n",
        "input_1 = brand_ + '_input_with_background.zip'\n",
        "input_2 = brand_ + '_input_without_background.zip'\n",
        "\n",
        "!zip -rq $input_1 input_with_background/\n",
        "!zip -rq $input_2 input_without_background/\n",
        "!mv $input_1 '/content/drive/MyDrive/Colab Notebooks/AiffelThon/jemu/dataset'\n",
        "!mv $input_2 '/content/drive/MyDrive/Colab Notebooks/AiffelThon/jemu/dataset'"
      ]
    },
    {
      "cell_type": "code",
      "execution_count": null,
      "metadata": {
        "id": "5zkI11BuJl04"
      },
      "outputs": [],
      "source": []
    }
  ],
  "metadata": {
    "accelerator": "GPU",
    "colab": {
      "collapsed_sections": [],
      "machine_shape": "hm",
      "provenance": []
    },
    "gpuClass": "standard",
    "kernelspec": {
      "display_name": "Python 3",
      "name": "python3"
    },
    "language_info": {
      "name": "python"
    }
  },
  "nbformat": 4,
  "nbformat_minor": 0
}